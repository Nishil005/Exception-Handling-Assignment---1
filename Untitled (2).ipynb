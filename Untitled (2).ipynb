{
 "cells": [
  {
   "cell_type": "markdown",
   "id": "44ddda28-dcd1-4461-a7b1-fee9089f06dc",
   "metadata": {},
   "source": [
    "Q1. What is an Exception in python? Write the difference between Exceptions and Syntax errors.\n",
    "Ans:\n",
    "An exception in Python is a mistake that happens while a programme is being run. It is a method of dealing with unanticipated or exceptional circumstances that may interfere with the regular course of code execution. When an exception occurs, the program's usual operation is interrupted, and control is passed to a specific section of code known as an exception handler.\n",
    "\n",
    "However, syntax mistakes in Python are a separate kind of error. They happen when the code disobeys the language's syntax and structural rules. Before the code is executed, the Python interpreter often finds syntax mistakes during the parsing process. Missing colons, mismatched brackets, and improper function call syntax are a few examples of syntax problems."
   ]
  },
  {
   "cell_type": "markdown",
   "id": "6016690e-2268-4ceb-8726-0f5e92a932dc",
   "metadata": {},
   "source": [
    "Q2. What happens when an exception is not handled? Explain with an example.\n",
    "Ans:\n",
    "When an exception is not handled, the programme terminates in an unexpected way. In Python, printing a traceback message that includes details on the exception type, the line of code where it happened, and the call stack at the time of the exception is the default behaviour. The programme ends after printing the traceback, and any unfinished code is not run."
   ]
  },
  {
   "cell_type": "code",
   "execution_count": 5,
   "id": "77006547-d09d-4f52-a436-accfd5505e02",
   "metadata": {},
   "outputs": [
    {
     "ename": "ZeroDivisionError",
     "evalue": "division by zero",
     "output_type": "error",
     "traceback": [
      "\u001b[0;31m---------------------------------------------------------------------------\u001b[0m",
      "\u001b[0;31mZeroDivisionError\u001b[0m                         Traceback (most recent call last)",
      "Cell \u001b[0;32mIn[5], line 3\u001b[0m\n\u001b[1;32m      1\u001b[0m a \u001b[38;5;241m=\u001b[39m \u001b[38;5;241m0\u001b[39m\n\u001b[1;32m      2\u001b[0m b \u001b[38;5;241m=\u001b[39m \u001b[38;5;241m1\u001b[39m\n\u001b[0;32m----> 3\u001b[0m c \u001b[38;5;241m=\u001b[39m \u001b[43mb\u001b[49m\u001b[43m \u001b[49m\u001b[38;5;241;43m/\u001b[39;49m\u001b[43m \u001b[49m\u001b[43ma\u001b[49m\n",
      "\u001b[0;31mZeroDivisionError\u001b[0m: division by zero"
     ]
    }
   ],
   "source": [
    "a = 0\n",
    "b = 1\n",
    "c = b / a"
   ]
  },
  {
   "cell_type": "code",
   "execution_count": 4,
   "id": "7ae02d12-0a19-4a3d-9eb7-f21e75eebe5f",
   "metadata": {},
   "outputs": [
    {
     "name": "stdout",
     "output_type": "stream",
     "text": [
      "0.0\n"
     ]
    }
   ],
   "source": [
    "print(c)"
   ]
  },
  {
   "cell_type": "markdown",
   "id": "ef3f832a-6ead-4880-bc3e-5560e273b3ae",
   "metadata": {},
   "source": [
    "Q3. Which Python statements are used to catch and handle exceptions? Explain with an example.\n",
    "Ans:\n",
    "In Python, the try-except statements are used to catch and handle exceptions"
   ]
  },
  {
   "cell_type": "code",
   "execution_count": 6,
   "id": "c3d17b62-c5c2-4e08-bf38-42d501321f6e",
   "metadata": {},
   "outputs": [
    {
     "name": "stdout",
     "output_type": "stream",
     "text": [
      "Division result: 5.0\n",
      "Error: Division by zero is not allowed.\n"
     ]
    }
   ],
   "source": [
    "def divide_numbers(a, b):\n",
    "    try:\n",
    "        result = a / b\n",
    "        print(\"Division result:\", result)\n",
    "    except ZeroDivisionError:\n",
    "        print(\"Error: Division by zero is not allowed.\")\n",
    "divide_numbers(10, 2)  \n",
    "divide_numbers(10, 0)   \n"
   ]
  },
  {
   "cell_type": "markdown",
   "id": "3f7c1e25-6abe-4f76-953d-df64ccabc102",
   "metadata": {},
   "source": [
    "Q4. Explain with an example:\n",
    "a. try and else\n",
    "b. finally\n",
    "c. raise"
   ]
  },
  {
   "cell_type": "code",
   "execution_count": 7,
   "id": "e9567dbe-a832-43e5-803b-022a718cd2db",
   "metadata": {},
   "outputs": [
    {
     "name": "stdout",
     "output_type": "stream",
     "text": [
      "Division result: 5.0\n",
      "Error: Division by zero is not allowed.\n"
     ]
    }
   ],
   "source": [
    "#In Python, the try-except statements are used to catch and handle exceptions\n",
    "def divide_numbers(a, b):\n",
    "    try:\n",
    "        result = a / b\n",
    "        print(\"Division result:\", result)\n",
    "    except ZeroDivisionError:\n",
    "        print(\"Error: Division by zero is not allowed.\")\n",
    "divide_numbers(10, 2)  \n",
    "divide_numbers(10, 0) "
   ]
  },
  {
   "cell_type": "code",
   "execution_count": 8,
   "id": "15aca32b-1f2d-41c1-bc1f-f86fb797ffe5",
   "metadata": {},
   "outputs": [
    {
     "name": "stdout",
     "output_type": "stream",
     "text": [
      "Error: File not found.\n"
     ]
    }
   ],
   "source": [
    "#In Python, the finally statement is used to specify a block of code that will be run whether or not an exception has been thrown. \n",
    "#It is frequently employed to carry out cleanup tasks or release resources.\n",
    "file = None\n",
    "try:\n",
    "    file = open(\"test.txt\", \"r\")\n",
    "    print(file.read())\n",
    "except FileNotFoundError:\n",
    "    print(\"Error: File not found.\")\n",
    "finally:\n",
    "    if file:\n",
    "        file.close()"
   ]
  },
  {
   "cell_type": "code",
   "execution_count": 9,
   "id": "1d4404fb-3823-4083-9058-b09f62c26434",
   "metadata": {},
   "outputs": [
    {
     "name": "stdout",
     "output_type": "stream",
     "text": [
      "Valid age.\n",
      "Invalid age: Age cannot be negative.\n"
     ]
    }
   ],
   "source": [
    "#In Python, an exception can be raised explicitly using the raise statement. \n",
    "#When specific criteria are matched, you can use it to build your own exceptions or raise built-in exceptions.\n",
    "def validate_age(age):\n",
    "    if age < 0:\n",
    "        raise ValueError(\"Invalid age: Age cannot be negative.\")\n",
    "    elif age < 18:\n",
    "        raise ValueError(\"Invalid age: Age should be at least 18.\")\n",
    "    else:\n",
    "        print(\"Valid age.\")\n",
    "try:\n",
    "    validate_age(25)   \n",
    "    validate_age(-5)     \n",
    "    validate_age(15)     \n",
    "except ValueError as e:\n",
    "    print(e)"
   ]
  },
  {
   "cell_type": "markdown",
   "id": "975381ae-ec56-49ef-8b74-0d25801bfa55",
   "metadata": {},
   "source": [
    "Q5. What are Custom Exceptions in python? Why do we need Custom Exceptions? Explain with an example.\n",
    "Ans:\n",
    "Custom exceptions in Python are user-defined exceptions that derive from the Exception class that is pre-built or any of its subclasses. You can define your own unusual circumstances or mistake kinds that are particular to your application or problem domain.\n",
    "Custom exceptions can be useful in several ways:\n",
    "1. Enhanced Readability\n",
    "2. Code Organization\n",
    "3. Specific Error Handling"
   ]
  },
  {
   "cell_type": "code",
   "execution_count": 10,
   "id": "478a49dc-1d49-41b9-b122-5aa43dfc897f",
   "metadata": {},
   "outputs": [
    {
     "name": "stdout",
     "output_type": "stream",
     "text": [
      "Withdrawal successful. New balance: 500\n",
      "Withdrawal error: Invalid amount: Amount must be positive.\n"
     ]
    }
   ],
   "source": [
    "class WithdrawalError(Exception):\n",
    "    pass\n",
    "\n",
    "class InsufficientFundsError(WithdrawalError):\n",
    "    pass\n",
    "\n",
    "class InvalidAmountError(WithdrawalError):\n",
    "    pass\n",
    "\n",
    "class BankAccount:\n",
    "    def __init__(self, balance):\n",
    "        self.balance = balance\n",
    "\n",
    "    def withdraw(self, amount):\n",
    "        if amount <= 0:\n",
    "            raise InvalidAmountError(\"Invalid amount: Amount must be positive.\")\n",
    "        if amount > self.balance:\n",
    "            raise InsufficientFundsError(\"Insufficient funds: Cannot withdraw more than the account balance.\")\n",
    "        self.balance -= amount\n",
    "        print(\"Withdrawal successful. New balance:\", self.balance)\n",
    "account = BankAccount(1000)\n",
    "\n",
    "try:\n",
    "    account.withdraw(500)    \n",
    "    account.withdraw(-200)  \n",
    "    account.withdraw(1500)    \n",
    "except WithdrawalError as e:\n",
    "    print(\"Withdrawal error:\", str(e))"
   ]
  },
  {
   "cell_type": "code",
   "execution_count": null,
   "id": "de193a20-1b5e-4447-9dba-e73239c65cc3",
   "metadata": {},
   "outputs": [],
   "source": []
  }
 ],
 "metadata": {
  "kernelspec": {
   "display_name": "Python 3 (ipykernel)",
   "language": "python",
   "name": "python3"
  },
  "language_info": {
   "codemirror_mode": {
    "name": "ipython",
    "version": 3
   },
   "file_extension": ".py",
   "mimetype": "text/x-python",
   "name": "python",
   "nbconvert_exporter": "python",
   "pygments_lexer": "ipython3",
   "version": "3.10.8"
  }
 },
 "nbformat": 4,
 "nbformat_minor": 5
}
